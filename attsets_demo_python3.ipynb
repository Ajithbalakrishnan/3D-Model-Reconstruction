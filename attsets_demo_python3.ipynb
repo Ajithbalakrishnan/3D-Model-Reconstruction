{
 "cells": [
  {
   "cell_type": "code",
   "execution_count": 95,
   "metadata": {},
   "outputs": [],
   "source": [
    "import tensorflow as tf\n",
    "import matplotlib as mp\n",
    "%matplotlib inline\n",
    "import tensorflow.contrib.slim as slim\n",
    "import os\n",
    "import sys\n",
    "sys.path.append('..')\n",
    "import tools as tools\n",
    "import numpy as np\n",
    "import matplotlib.pyplot as plt\n",
    "from datetime import datetime\n",
    "import scipy\n",
    "from scipy import ndimage, misc\n",
    "from scipy.misc import imshow\n",
    "import skimage\n",
    "GPU='0'"
   ]
  },
  {
   "cell_type": "code",
   "execution_count": 96,
   "metadata": {},
   "outputs": [],
   "source": [
    "tf.reset_default_graph()"
   ]
  },
  {
   "cell_type": "code",
   "execution_count": 97,
   "metadata": {},
   "outputs": [],
   "source": [
    "def load_real_rgbs(test_mv=5):\n",
    "    obj_rgbs_folder ='./Data_sample/amazon_real_rgbs/airfilter/'\n",
    "    rgbs = []\n",
    "    rgbs_views = sorted(os.listdir(obj_rgbs_folder))\n",
    "    for v in rgbs_views:\n",
    "        if not v.endswith('png'): continue\n",
    "      \n",
    "        rgbs.append(tools.Data.load_single_X_rgb_r2n2(obj_rgbs_folder + v, train=False))\n",
    "    \n",
    "    rgbs = np.asarray(rgbs)\n",
    "    x_sample = rgbs[0:test_mv, :, :, :].reshape(1, test_mv, 127, 127, 3)\n",
    "    return x_sample, None"
   ]
  },
  {
   "cell_type": "code",
   "execution_count": 98,
   "metadata": {},
   "outputs": [],
   "source": [
    "def load_shapenet_rgbs(test_mv=8):\n",
    "    obj_rgbs_folder = './Data_sample/ShapeNetRendering/03001627/1a6f615e8b1b5ae4dbbc9440457e303e/rendering/'\n",
    "    obj_gt_vox_path ='./Data_sample/ShapeNetVox32/03001627/1a6f615e8b1b5ae4dbbc9440457e303e/model.binvox'\n",
    "    rgbs=[]\n",
    "    rgbs_views = sorted(os.listdir(obj_rgbs_folder))\n",
    "    for v in rgbs_views:\n",
    "        if not v.endswith('png'): continue\n",
    "        rgbs.append(tools.Data.load_single_X_rgb_r2n2(obj_rgbs_folder + v, train=False))\n",
    "    rgbs = np.asarray(rgbs)\n",
    "    x_sample = rgbs[0:test_mv, :, :, :].reshape(1, test_mv, 127, 127, 3)\n",
    "    y_true = tools.Data.load_single_Y_vox(obj_gt_vox_path)\n",
    "    return x_sample, y_true"
   ]
  },
  {
   "cell_type": "code",
   "execution_count": 99,
   "metadata": {},
   "outputs": [],
   "source": [
    "def ttest_demo():\n",
    "    model_path = './Model_released/'\n",
    "    if not os.path.isfile(model_path + 'model.cptk.data-00000-of-00001'):\n",
    "        print ('please download our released model first!')\n",
    "        return\n",
    "\n",
    "    config = tf.ConfigProto(allow_soft_placement=True)\n",
    "    config.gpu_options.visible_device_list = GPU\n",
    "    \n",
    "\n",
    "    \n",
    "    with tf.Session(config=config) as sess:\n",
    "        saver = tf.train.import_meta_graph(model_path + 'model.cptk.meta', clear_devices=True)\n",
    "        saver.restore(sess, model_path + 'model.cptk')\n",
    "        print ('model restored!')      \n",
    "        \n",
    "       # graph = tf.get_default_graph()\n",
    "       # print(graph.get_operations())\n",
    "        \n",
    "        X = tf.get_default_graph().get_tensor_by_name(\"Placeholder:0\")\n",
    "        Y_pred = tf.get_default_graph().get_tensor_by_name(\"r2n/Reshape_9:0\")\n",
    "        \n",
    "#         plot_data = tf.get_default_graph().get_tensor_by_name(\"r2n/Reshape_7:0\") #############(1,1024)\n",
    "        plot_data = tf.get_default_graph().get_tensor_by_name(\"r2n/Reshape_8:0\") #############(1,1024)\n",
    "\n",
    "\n",
    "        \n",
    "        print(\"X: \", X.shape)        #Tensor(\"Placeholder:0\", shape=(?, ?, 127, 127, 3), dtype=float32)\n",
    "#       print(Y_pred)   #Tensor(\"r2n/Reshape_9:0\", shape=(?, 32, 32, 32), dtype=float32)\n",
    "    \n",
    "       #x_sample, gt_vox = load_shapenet_rgbs()    \n",
    "        x_sample, gt_vox = load_real_rgbs()\n",
    "        print(\"x_sample: \", x_sample.shape)  \n",
    "        print(\"x_sample_data: \", type(x_sample[:,:,:,:,1]))  \n",
    "\n",
    "        \n",
    "        print(\"loading compleated\")\n",
    "        \n",
    "        #tf.global_variables_initializer()\n",
    "        \n",
    "        \n",
    "        #print(y_pred.shape)    ###############################(1, 32, 32, 32) ##############################\n",
    "\n",
    "        print(\"plot_data \", plot_data.shape)\n",
    "        plot_buf= tf.reshape(plot_data, [-1, 32, 32, 1])\n",
    "        print(\"plot_buf \", plot_buf.shape)\n",
    "\n",
    "        summary_op = tf.summary.image(\"plot image\", plot_buf)\n",
    "\n",
    "    #     with tf.Session() as sess:\n",
    "        # Run\n",
    "        y_pred,c_summary  = sess.run([Y_pred,summary_op], feed_dict={X: x_sample})\n",
    "\n",
    "         \n",
    "        # Write summary  tf.summary.FileWriter\n",
    "        writer = tf.summary.FileWriter('./logs')\n",
    "        writer.add_summary(c_summary)\n",
    "        writer.close()\n",
    "    #    sys.exit(). sys.exit() \n",
    "        ###### to visualize\n",
    "        th = 0.25\n",
    "        y_pred[y_pred>=th]=1\n",
    "        y_pred[y_pred<th]=0\n",
    "        tools.Data.plotFromVoxels(np.reshape(y_pred,[32,32,32]), title='y_pred')\n",
    "        if gt_vox is not None:\n",
    "            tools.Data.plotFromVoxels(np.reshape(gt_vox,[32,32,32]), title='y_true')\n",
    "        from matplotlib.pyplot import show\n",
    "        show()"
   ]
  },
  {
   "cell_type": "code",
   "execution_count": 94,
   "metadata": {},
   "outputs": [
    {
     "name": "stdout",
     "output_type": "stream",
     "text": [
      "TensorBoard 1.11.0 at http://wipro-ThinkCentre:6006 (Press CTRL+C to quit)\n",
      "^C\n"
     ]
    }
   ],
   "source": [
    "!tensorboard --logdir=logs/"
   ]
  },
  {
   "cell_type": "code",
   "execution_count": 66,
   "metadata": {},
   "outputs": [
    {
     "name": "stdout",
     "output_type": "stream",
     "text": [
      "/home/wiproec4/3d reconstruction/attsets\r\n"
     ]
    }
   ],
   "source": [
    "!pwd"
   ]
  },
  {
   "cell_type": "code",
   "execution_count": 100,
   "metadata": {},
   "outputs": [
    {
     "name": "stdout",
     "output_type": "stream",
     "text": [
      "enterd\n",
      "INFO:tensorflow:Restoring parameters from ./Model_released/model.cptk\n",
      "model restored!\n",
      "X:  (?, ?, 127, 127, 3)\n",
      "load_single_X_rgb_r2n2\n",
      "processing_img\n",
      "add_random_color_background\n",
      "(127, 127, 3)\n",
      "crop_center\n",
      "load_single_X_rgb_r2n2\n",
      "processing_img\n",
      "add_random_color_background\n",
      "(127, 127, 3)\n",
      "crop_center\n",
      "load_single_X_rgb_r2n2\n",
      "processing_img\n",
      "add_random_color_background\n",
      "(127, 127, 3)\n",
      "crop_center\n",
      "load_single_X_rgb_r2n2\n",
      "processing_img\n",
      "add_random_color_background\n",
      "(127, 127, 3)\n",
      "crop_center\n",
      "load_single_X_rgb_r2n2\n",
      "processing_img\n",
      "add_random_color_background\n",
      "(127, 127, 3)\n",
      "crop_center\n",
      "load_single_X_rgb_r2n2\n",
      "processing_img\n",
      "add_random_color_background\n",
      "(127, 127, 3)\n",
      "crop_center\n",
      "load_single_X_rgb_r2n2\n",
      "processing_img\n",
      "add_random_color_background\n",
      "(127, 127, 3)\n",
      "crop_center\n",
      "load_single_X_rgb_r2n2\n",
      "processing_img\n",
      "add_random_color_background\n",
      "(127, 127, 3)\n",
      "crop_center\n",
      "x_sample:  (1, 5, 127, 127, 3)\n",
      "x_sample_data:  <class 'numpy.ndarray'>\n",
      "loading compleated\n",
      "plot_data  (?, 4, 4, 4, 128)\n",
      "plot_buf  (?, 32, 32, 1)\n",
      "INFO:tensorflow:Summary name plot image is illegal; using plot_image instead.\n",
      "plotfromvoxel\n",
      "(32, 32, 32)\n"
     ]
    },
    {
     "data": {
      "image/png": "[encoded data removed]",
      "text/plain": [
       "<Figure size 432x288 with 1 Axes>"
      ]
     },
     "metadata": {
      "needs_background": "light"
     },
     "output_type": "display_data"
    },
    {
     "data": {
      "image/png": "[encoded data removed]",
      "text/plain": [
       "<Figure size 432x288 with 1 Axes>"
      ]
     },
     "metadata": {
      "needs_background": "light"
     },
     "output_type": "display_data"
    }
   ],
   "source": [
    "# if __name__ == '__main__':\n",
    "\t \n",
    "print ('enterd')    \n",
    "ttest_demo()"
   ]
  },
  {
   "cell_type": "code",
   "execution_count": null,
   "metadata": {},
   "outputs": [],
   "source": [
    "%tb\n"
   ]
  },
  {
   "cell_type": "code",
   "execution_count": null,
   "metadata": {},
   "outputs": [],
   "source": []
  }
 ],
 "metadata": {
  "kernelspec": {
   "display_name": "Python 3",
   "language": "python",
   "name": "python3"
  },
  "language_info": {
   "codemirror_mode": {
    "name": "ipython",
    "version": 3
   },
   "file_extension": ".py",
   "mimetype": "text/x-python",
   "name": "python",
   "nbconvert_exporter": "python",
   "pygments_lexer": "ipython3",
   "version": "3.6.8"
  }
 },
 "nbformat": 4,
 "nbformat_minor": 2
}
